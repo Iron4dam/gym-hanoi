{
 "cells": [
  {
   "cell_type": "code",
   "execution_count": 2,
   "metadata": {},
   "outputs": [
    {
     "name": "stdout",
     "output_type": "stream",
     "text": [
      "Obtaining file:///Users/rtl/Dropbox/PHD_ECN/PROJECTS/ActionGrammars/gym-hanoi\n",
      "Requirement already satisfied: numpy in /Users/rtl/anaconda2/envs/AG/lib/python3.6/site-packages/numpy-1.16.0rc2-py3.6-macosx-10.7-x86_64.egg (from gym-hanoi==0.0.2) (1.16.0rc2)\n",
      "Requirement already satisfied: gym in /Users/rtl/anaconda2/envs/AG/lib/python3.6/site-packages/gym-0.10.9-py3.6.egg (from gym-hanoi==0.0.2) (0.10.9)\n",
      "Requirement already satisfied: scipy in /Users/rtl/anaconda2/envs/AG/lib/python3.6/site-packages/scipy-1.2.0-py3.6-macosx-10.7-x86_64.egg (from gym->gym-hanoi==0.0.2) (1.2.0)\n",
      "Requirement already satisfied: requests>=2.0 in /Users/rtl/anaconda2/envs/AG/lib/python3.6/site-packages/requests-2.21.0-py3.6.egg (from gym->gym-hanoi==0.0.2) (2.21.0)\n",
      "Requirement already satisfied: six in /Users/rtl/anaconda2/envs/AG/lib/python3.6/site-packages (from gym->gym-hanoi==0.0.2) (1.12.0)\n",
      "Requirement already satisfied: pyglet>=1.2.0 in /Users/rtl/anaconda2/envs/AG/lib/python3.6/site-packages/pyglet-1.4.0b1-py3.6.egg (from gym->gym-hanoi==0.0.2) (1.4.0b1)\n",
      "Requirement already satisfied: certifi>=2017.4.17 in /Users/rtl/anaconda2/envs/AG/lib/python3.6/site-packages (from requests>=2.0->gym->gym-hanoi==0.0.2) (2018.1.18)\n",
      "Requirement already satisfied: chardet<3.1.0,>=3.0.2 in /Users/rtl/anaconda2/envs/AG/lib/python3.6/site-packages/chardet-3.0.4-py3.6.egg (from requests>=2.0->gym->gym-hanoi==0.0.2) (3.0.4)\n",
      "Requirement already satisfied: idna<2.9,>=2.5 in /Users/rtl/anaconda2/envs/AG/lib/python3.6/site-packages/idna-2.8-py3.6.egg (from requests>=2.0->gym->gym-hanoi==0.0.2) (2.8)\n",
      "Requirement already satisfied: urllib3<1.25,>=1.21.1 in /Users/rtl/anaconda2/envs/AG/lib/python3.6/site-packages/urllib3-1.24.1-py3.6.egg (from requests>=2.0->gym->gym-hanoi==0.0.2) (1.24.1)\n",
      "Requirement already satisfied: future in /Users/rtl/anaconda2/envs/AG/lib/python3.6/site-packages/future-0.17.1-py3.6.egg (from pyglet>=1.2.0->gym->gym-hanoi==0.0.2) (0.17.1)\n",
      "Installing collected packages: gym-hanoi\n",
      "  Found existing installation: gym-hanoi 0.0.2\n",
      "    Uninstalling gym-hanoi-0.0.2:\n",
      "      Successfully uninstalled gym-hanoi-0.0.2\n",
      "  Running setup.py develop for gym-hanoi\n",
      "Successfully installed gym-hanoi\n"
     ]
    }
   ],
   "source": [
    "!pip install -e ."
   ]
  },
  {
   "cell_type": "code",
   "execution_count": 3,
   "metadata": {},
   "outputs": [],
   "source": [
    "# Run unit tests\n",
    "# !python gym_swarm/tests/test.py"
   ]
  },
  {
   "cell_type": "code",
   "execution_count": 4,
   "metadata": {},
   "outputs": [],
   "source": [
    "from IPython.display import set_matplotlib_formats\n",
    "set_matplotlib_formats('retina')\n",
    "\n",
    "# Import the environment\n",
    "import gym\n",
    "import gym_hanoi\n",
    "\n",
    "# Import base modules\n",
    "import time\n",
    "import numpy as np\n",
    "import matplotlib.pyplot as plt"
   ]
  },
  {
   "cell_type": "code",
   "execution_count": 5,
   "metadata": {},
   "outputs": [
    {
     "name": "stdout",
     "output_type": "stream",
     "text": [
      "Hanoi Environment Parameters have been set to:\n",
      "\t Number of Disks: 6\n",
      "\t Transition Failure Probability: 0.1\n",
      "State Transition:\n",
      "--> Disk 1 moves from pole 0 to 1\n",
      "--> Disk 2 moves from pole 0 to 0\n",
      "--> Disk 3 moves from pole 0 to 0\n",
      "--> Disk 4 moves from pole 0 to 0\n",
      "--> Disk 5 moves from pole 0 to 0\n",
      "--> Disk 6 moves from pole 0 to 0\n"
     ]
    },
    {
     "name": "stderr",
     "output_type": "stream",
     "text": [
      "/Users/rtl/anaconda2/envs/AG/lib/python3.6/site-packages/gym-0.10.9-py3.6.egg/gym/envs/registration.py:14: PkgResourcesDeprecationWarning: Parameters to load are deprecated.  Call .resolve and .require separately.\n",
      "  result = entry_point.load(False)\n"
     ]
    }
   ],
   "source": [
    "# Make the environment and change the base params\n",
    "num_disks = 6\n",
    "env_noise = 0.1\n",
    "\n",
    "env = gym.make(\"Hanoi-v0\")\n",
    "env.set_env_parameters(num_disks, env_noise, verbose=True)\n",
    "state = env.reset()\n",
    "next_state, reward, done, _ = env.step(0)\n",
    "\n",
    "print(\"State Transition:\")\n",
    "for i in range(num_disks):\n",
    "    print(\"--> Disk {} moves from pole {} to {}\".format(i+1, state[i], next_state[i]))"
   ]
  },
  {
   "cell_type": "code",
   "execution_count": null,
   "metadata": {},
   "outputs": [
    {
     "name": "stdout",
     "output_type": "stream",
     "text": [
      "CPU times: user 11.3 ms, sys: 262 µs, total: 11.6 ms\n",
      "Wall time: 11.4 ms\n",
      "CPU times: user 201 ms, sys: 2.59 ms, total: 203 ms\n",
      "Wall time: 203 ms\n",
      "CPU times: user 5.72 s, sys: 20.5 ms, total: 5.74 s\n",
      "Wall time: 5.75 s\n"
     ]
    }
   ],
   "source": [
    "# Check how much time it takes to compute the movability map\n",
    "for num_disks in range(3, 7):\n",
    "    env = gym.make(\"Hanoi-v0\")\n",
    "    env.set_env_parameters(num_disks, verbose=False)\n",
    "    state = env.reset()\n",
    "    %time env.get_movability_map()"
   ]
  },
  {
   "cell_type": "code",
   "execution_count": null,
   "metadata": {},
   "outputs": [],
   "source": []
  }
 ],
 "metadata": {
  "kernelspec": {
   "display_name": "Python3 (AG)",
   "language": "python",
   "name": "ag"
  },
  "language_info": {
   "codemirror_mode": {
    "name": "ipython",
    "version": 3
   },
   "file_extension": ".py",
   "mimetype": "text/x-python",
   "name": "python",
   "nbconvert_exporter": "python",
   "pygments_lexer": "ipython3",
   "version": "3.6.6"
  }
 },
 "nbformat": 4,
 "nbformat_minor": 2
}
